{
  "nbformat": 4,
  "nbformat_minor": 0,
  "metadata": {
    "colab": {
      "name": "wattsight_task.ipynb",
      "provenance": [],
      "authorship_tag": "ABX9TyMREwDJfiDVv7CayZfBk+WX",
      "include_colab_link": true
    },
    "kernelspec": {
      "name": "python3",
      "display_name": "Python 3"
    }
  },
  "cells": [
    {
      "cell_type": "markdown",
      "metadata": {
        "id": "view-in-github",
        "colab_type": "text"
      },
      "source": [
        "<a href=\"https://colab.research.google.com/github/kaushal3312/TimeSeriesData/blob/main/wattsight_task.ipynb\" target=\"_parent\"><img src=\"https://colab.research.google.com/assets/colab-badge.svg\" alt=\"Open In Colab\"/></a>"
      ]
    },
    {
      "cell_type": "code",
      "metadata": {
        "id": "1YIRPVwQs_Lq",
        "outputId": "871856a0-c647-4ac6-b8b4-0dc0838c9357",
        "colab": {
          "base_uri": "https://localhost:8080/"
        }
      },
      "source": [
        "!pip install yfinance\n"
      ],
      "execution_count": 1,
      "outputs": [
        {
          "output_type": "stream",
          "text": [
            "Requirement already satisfied: yfinance in /usr/local/lib/python3.6/dist-packages (0.1.55)\n",
            "Requirement already satisfied: pandas>=0.24 in /usr/local/lib/python3.6/dist-packages (from yfinance) (1.1.4)\n",
            "Requirement already satisfied: requests>=2.20 in /usr/local/lib/python3.6/dist-packages (from yfinance) (2.23.0)\n",
            "Requirement already satisfied: numpy>=1.15 in /usr/local/lib/python3.6/dist-packages (from yfinance) (1.18.5)\n",
            "Requirement already satisfied: multitasking>=0.0.7 in /usr/local/lib/python3.6/dist-packages (from yfinance) (0.0.9)\n",
            "Requirement already satisfied: lxml>=4.5.1 in /usr/local/lib/python3.6/dist-packages (from yfinance) (4.6.1)\n",
            "Requirement already satisfied: pytz>=2017.2 in /usr/local/lib/python3.6/dist-packages (from pandas>=0.24->yfinance) (2018.9)\n",
            "Requirement already satisfied: python-dateutil>=2.7.3 in /usr/local/lib/python3.6/dist-packages (from pandas>=0.24->yfinance) (2.8.1)\n",
            "Requirement already satisfied: idna<3,>=2.5 in /usr/local/lib/python3.6/dist-packages (from requests>=2.20->yfinance) (2.10)\n",
            "Requirement already satisfied: urllib3!=1.25.0,!=1.25.1,<1.26,>=1.21.1 in /usr/local/lib/python3.6/dist-packages (from requests>=2.20->yfinance) (1.24.3)\n",
            "Requirement already satisfied: chardet<4,>=3.0.2 in /usr/local/lib/python3.6/dist-packages (from requests>=2.20->yfinance) (3.0.4)\n",
            "Requirement already satisfied: certifi>=2017.4.17 in /usr/local/lib/python3.6/dist-packages (from requests>=2.20->yfinance) (2020.6.20)\n",
            "Requirement already satisfied: six>=1.5 in /usr/local/lib/python3.6/dist-packages (from python-dateutil>=2.7.3->pandas>=0.24->yfinance) (1.15.0)\n"
          ],
          "name": "stdout"
        }
      ]
    },
    {
      "cell_type": "code",
      "metadata": {
        "id": "lvEMgasm2zri"
      },
      "source": [
        "import yfinance as yf \n",
        "from pandas_datareader import data as pdr\n",
        "import matplotlib.pyplot as plt\n",
        "import seaborn as sn\n",
        "import pandas as pd\n",
        "import datetime    "
      ],
      "execution_count": 2,
      "outputs": []
    },
    {
      "cell_type": "code",
      "metadata": {
        "id": "wUA7vyOE7yv_",
        "outputId": "d8ca9c04-07fe-4707-8333-e4b1f6ba2965",
        "colab": {
          "base_uri": "https://localhost:8080/"
        }
      },
      "source": [
        "rwe = yf.Ticker('RWE.DE')\n",
        "eongy = yf.Ticker('EONGY')\n",
        "print(rwe)\n",
        "print(eongy)"
      ],
      "execution_count": 3,
      "outputs": [
        {
          "output_type": "stream",
          "text": [
            "yfinance.Ticker object <RWE.DE>\n",
            "yfinance.Ticker object <EONGY>\n"
          ],
          "name": "stdout"
        }
      ]
    },
    {
      "cell_type": "code",
      "metadata": {
        "id": "J17lyGBL4N02",
        "outputId": "cb8b8132-ea25-4d64-f410-7f5d22138c7e",
        "colab": {
          "base_uri": "https://localhost:8080/"
        }
      },
      "source": [
        "start = datetime.datetime(2018, 12, 31)\n",
        "end = datetime.datetime(2020, 1, 1)\n",
        "df = yf.download('RWE.DE EONGY', start, end)\n",
        "dates =[]\n",
        "for x in range(len(df)):\n",
        "    newdate = str(df.index[x])\n",
        "\n",
        "    newdate = newdate[0:10]\n",
        "    dates.append(newdate)\n",
        "\n",
        "df['dates'] = dates\n"
      ],
      "execution_count": 4,
      "outputs": [
        {
          "output_type": "stream",
          "text": [
            "[*********************100%***********************]  2 of 2 completed\n"
          ],
          "name": "stdout"
        }
      ]
    },
    {
      "cell_type": "code",
      "metadata": {
        "id": "toqxK-Ri4N3j",
        "outputId": "5d86f746-f6c7-4fbe-cc30-3ada898a324b",
        "colab": {
          "base_uri": "https://localhost:8080/",
          "height": 266
        }
      },
      "source": [
        "df.head()\n"
      ],
      "execution_count": 5,
      "outputs": [
        {
          "output_type": "execute_result",
          "data": {
            "text/html": [
              "<div>\n",
              "<style scoped>\n",
              "    .dataframe tbody tr th:only-of-type {\n",
              "        vertical-align: middle;\n",
              "    }\n",
              "\n",
              "    .dataframe tbody tr th {\n",
              "        vertical-align: top;\n",
              "    }\n",
              "\n",
              "    .dataframe thead tr th {\n",
              "        text-align: left;\n",
              "    }\n",
              "\n",
              "    .dataframe thead tr:last-of-type th {\n",
              "        text-align: right;\n",
              "    }\n",
              "</style>\n",
              "<table border=\"1\" class=\"dataframe\">\n",
              "  <thead>\n",
              "    <tr>\n",
              "      <th></th>\n",
              "      <th colspan=\"2\" halign=\"left\">Adj Close</th>\n",
              "      <th colspan=\"2\" halign=\"left\">Close</th>\n",
              "      <th colspan=\"2\" halign=\"left\">High</th>\n",
              "      <th colspan=\"2\" halign=\"left\">Low</th>\n",
              "      <th colspan=\"2\" halign=\"left\">Open</th>\n",
              "      <th colspan=\"2\" halign=\"left\">Volume</th>\n",
              "      <th>dates</th>\n",
              "    </tr>\n",
              "    <tr>\n",
              "      <th></th>\n",
              "      <th>EONGY</th>\n",
              "      <th>RWE.DE</th>\n",
              "      <th>EONGY</th>\n",
              "      <th>RWE.DE</th>\n",
              "      <th>EONGY</th>\n",
              "      <th>RWE.DE</th>\n",
              "      <th>EONGY</th>\n",
              "      <th>RWE.DE</th>\n",
              "      <th>EONGY</th>\n",
              "      <th>RWE.DE</th>\n",
              "      <th>EONGY</th>\n",
              "      <th>RWE.DE</th>\n",
              "      <th></th>\n",
              "    </tr>\n",
              "    <tr>\n",
              "      <th>Date</th>\n",
              "      <th></th>\n",
              "      <th></th>\n",
              "      <th></th>\n",
              "      <th></th>\n",
              "      <th></th>\n",
              "      <th></th>\n",
              "      <th></th>\n",
              "      <th></th>\n",
              "      <th></th>\n",
              "      <th></th>\n",
              "      <th></th>\n",
              "      <th></th>\n",
              "      <th></th>\n",
              "    </tr>\n",
              "  </thead>\n",
              "  <tbody>\n",
              "    <tr>\n",
              "      <th>2018-12-31</th>\n",
              "      <td>8.987103</td>\n",
              "      <td>NaN</td>\n",
              "      <td>9.87</td>\n",
              "      <td>NaN</td>\n",
              "      <td>9.96</td>\n",
              "      <td>NaN</td>\n",
              "      <td>9.77</td>\n",
              "      <td>NaN</td>\n",
              "      <td>9.82</td>\n",
              "      <td>NaN</td>\n",
              "      <td>402700.0</td>\n",
              "      <td>NaN</td>\n",
              "      <td>2018-12-31</td>\n",
              "    </tr>\n",
              "    <tr>\n",
              "      <th>2019-01-02</th>\n",
              "      <td>9.169211</td>\n",
              "      <td>17.217455</td>\n",
              "      <td>10.07</td>\n",
              "      <td>19.299999</td>\n",
              "      <td>10.14</td>\n",
              "      <td>19.375000</td>\n",
              "      <td>9.98</td>\n",
              "      <td>18.745001</td>\n",
              "      <td>9.99</td>\n",
              "      <td>18.885000</td>\n",
              "      <td>98400.0</td>\n",
              "      <td>4291989.0</td>\n",
              "      <td>2019-01-02</td>\n",
              "    </tr>\n",
              "    <tr>\n",
              "      <th>2019-01-03</th>\n",
              "      <td>9.314898</td>\n",
              "      <td>17.418179</td>\n",
              "      <td>10.23</td>\n",
              "      <td>19.525000</td>\n",
              "      <td>10.27</td>\n",
              "      <td>19.709999</td>\n",
              "      <td>10.20</td>\n",
              "      <td>19.020000</td>\n",
              "      <td>10.23</td>\n",
              "      <td>19.180000</td>\n",
              "      <td>142600.0</td>\n",
              "      <td>3622844.0</td>\n",
              "      <td>2019-01-03</td>\n",
              "    </tr>\n",
              "    <tr>\n",
              "      <th>2019-01-04</th>\n",
              "      <td>9.433270</td>\n",
              "      <td>17.775019</td>\n",
              "      <td>10.36</td>\n",
              "      <td>19.924999</td>\n",
              "      <td>10.36</td>\n",
              "      <td>20.080000</td>\n",
              "      <td>10.21</td>\n",
              "      <td>19.559999</td>\n",
              "      <td>10.23</td>\n",
              "      <td>19.690001</td>\n",
              "      <td>124900.0</td>\n",
              "      <td>3288528.0</td>\n",
              "      <td>2019-01-04</td>\n",
              "    </tr>\n",
              "    <tr>\n",
              "      <th>2019-01-07</th>\n",
              "      <td>9.351322</td>\n",
              "      <td>17.752714</td>\n",
              "      <td>10.27</td>\n",
              "      <td>19.900000</td>\n",
              "      <td>10.30</td>\n",
              "      <td>20.059999</td>\n",
              "      <td>10.22</td>\n",
              "      <td>19.705000</td>\n",
              "      <td>10.27</td>\n",
              "      <td>19.990000</td>\n",
              "      <td>192400.0</td>\n",
              "      <td>3042945.0</td>\n",
              "      <td>2019-01-07</td>\n",
              "    </tr>\n",
              "  </tbody>\n",
              "</table>\n",
              "</div>"
            ],
            "text/plain": [
              "           Adj Close             Close  ...    Volume                  dates\n",
              "               EONGY     RWE.DE  EONGY  ...     EONGY     RWE.DE            \n",
              "Date                                    ...                                 \n",
              "2018-12-31  8.987103        NaN   9.87  ...  402700.0        NaN  2018-12-31\n",
              "2019-01-02  9.169211  17.217455  10.07  ...   98400.0  4291989.0  2019-01-02\n",
              "2019-01-03  9.314898  17.418179  10.23  ...  142600.0  3622844.0  2019-01-03\n",
              "2019-01-04  9.433270  17.775019  10.36  ...  124900.0  3288528.0  2019-01-04\n",
              "2019-01-07  9.351322  17.752714  10.27  ...  192400.0  3042945.0  2019-01-07\n",
              "\n",
              "[5 rows x 13 columns]"
            ]
          },
          "metadata": {
            "tags": []
          },
          "execution_count": 5
        }
      ]
    },
    {
      "cell_type": "code",
      "metadata": {
        "id": "aUGNdlX14N6f",
        "outputId": "b989d06e-cc4f-425b-cece-fafac13fc919",
        "colab": {
          "base_uri": "https://localhost:8080/",
          "height": 266
        }
      },
      "source": [
        "df.tail()"
      ],
      "execution_count": 6,
      "outputs": [
        {
          "output_type": "execute_result",
          "data": {
            "text/html": [
              "<div>\n",
              "<style scoped>\n",
              "    .dataframe tbody tr th:only-of-type {\n",
              "        vertical-align: middle;\n",
              "    }\n",
              "\n",
              "    .dataframe tbody tr th {\n",
              "        vertical-align: top;\n",
              "    }\n",
              "\n",
              "    .dataframe thead tr th {\n",
              "        text-align: left;\n",
              "    }\n",
              "\n",
              "    .dataframe thead tr:last-of-type th {\n",
              "        text-align: right;\n",
              "    }\n",
              "</style>\n",
              "<table border=\"1\" class=\"dataframe\">\n",
              "  <thead>\n",
              "    <tr>\n",
              "      <th></th>\n",
              "      <th colspan=\"2\" halign=\"left\">Adj Close</th>\n",
              "      <th colspan=\"2\" halign=\"left\">Close</th>\n",
              "      <th colspan=\"2\" halign=\"left\">High</th>\n",
              "      <th colspan=\"2\" halign=\"left\">Low</th>\n",
              "      <th colspan=\"2\" halign=\"left\">Open</th>\n",
              "      <th colspan=\"2\" halign=\"left\">Volume</th>\n",
              "      <th>dates</th>\n",
              "    </tr>\n",
              "    <tr>\n",
              "      <th></th>\n",
              "      <th>EONGY</th>\n",
              "      <th>RWE.DE</th>\n",
              "      <th>EONGY</th>\n",
              "      <th>RWE.DE</th>\n",
              "      <th>EONGY</th>\n",
              "      <th>RWE.DE</th>\n",
              "      <th>EONGY</th>\n",
              "      <th>RWE.DE</th>\n",
              "      <th>EONGY</th>\n",
              "      <th>RWE.DE</th>\n",
              "      <th>EONGY</th>\n",
              "      <th>RWE.DE</th>\n",
              "      <th></th>\n",
              "    </tr>\n",
              "    <tr>\n",
              "      <th>Date</th>\n",
              "      <th></th>\n",
              "      <th></th>\n",
              "      <th></th>\n",
              "      <th></th>\n",
              "      <th></th>\n",
              "      <th></th>\n",
              "      <th></th>\n",
              "      <th></th>\n",
              "      <th></th>\n",
              "      <th></th>\n",
              "      <th></th>\n",
              "      <th></th>\n",
              "      <th></th>\n",
              "    </tr>\n",
              "  </thead>\n",
              "  <tbody>\n",
              "    <tr>\n",
              "      <th>2019-12-24</th>\n",
              "      <td>9.971957</td>\n",
              "      <td>NaN</td>\n",
              "      <td>10.45</td>\n",
              "      <td>NaN</td>\n",
              "      <td>10.57</td>\n",
              "      <td>NaN</td>\n",
              "      <td>10.38</td>\n",
              "      <td>NaN</td>\n",
              "      <td>10.38</td>\n",
              "      <td>NaN</td>\n",
              "      <td>32400.0</td>\n",
              "      <td>NaN</td>\n",
              "      <td>2019-12-24</td>\n",
              "    </tr>\n",
              "    <tr>\n",
              "      <th>2019-12-26</th>\n",
              "      <td>10.067384</td>\n",
              "      <td>NaN</td>\n",
              "      <td>10.55</td>\n",
              "      <td>NaN</td>\n",
              "      <td>10.59</td>\n",
              "      <td>NaN</td>\n",
              "      <td>10.40</td>\n",
              "      <td>NaN</td>\n",
              "      <td>10.40</td>\n",
              "      <td>NaN</td>\n",
              "      <td>116600.0</td>\n",
              "      <td>NaN</td>\n",
              "      <td>2019-12-26</td>\n",
              "    </tr>\n",
              "    <tr>\n",
              "      <th>2019-12-27</th>\n",
              "      <td>10.162808</td>\n",
              "      <td>24.912785</td>\n",
              "      <td>10.65</td>\n",
              "      <td>27.059999</td>\n",
              "      <td>10.74</td>\n",
              "      <td>27.34</td>\n",
              "      <td>10.65</td>\n",
              "      <td>27.030001</td>\n",
              "      <td>10.69</td>\n",
              "      <td>27.07</td>\n",
              "      <td>146500.0</td>\n",
              "      <td>1368804.0</td>\n",
              "      <td>2019-12-27</td>\n",
              "    </tr>\n",
              "    <tr>\n",
              "      <th>2019-12-30</th>\n",
              "      <td>10.134181</td>\n",
              "      <td>25.179773</td>\n",
              "      <td>10.62</td>\n",
              "      <td>27.350000</td>\n",
              "      <td>10.70</td>\n",
              "      <td>27.35</td>\n",
              "      <td>10.53</td>\n",
              "      <td>26.840000</td>\n",
              "      <td>10.53</td>\n",
              "      <td>27.00</td>\n",
              "      <td>53000.0</td>\n",
              "      <td>1721932.0</td>\n",
              "      <td>2019-12-30</td>\n",
              "    </tr>\n",
              "    <tr>\n",
              "      <th>2019-12-31</th>\n",
              "      <td>10.181893</td>\n",
              "      <td>NaN</td>\n",
              "      <td>10.67</td>\n",
              "      <td>NaN</td>\n",
              "      <td>10.77</td>\n",
              "      <td>NaN</td>\n",
              "      <td>10.54</td>\n",
              "      <td>NaN</td>\n",
              "      <td>10.60</td>\n",
              "      <td>NaN</td>\n",
              "      <td>58100.0</td>\n",
              "      <td>NaN</td>\n",
              "      <td>2019-12-31</td>\n",
              "    </tr>\n",
              "  </tbody>\n",
              "</table>\n",
              "</div>"
            ],
            "text/plain": [
              "            Adj Close             Close  ...    Volume                  dates\n",
              "                EONGY     RWE.DE  EONGY  ...     EONGY     RWE.DE            \n",
              "Date                                     ...                                 \n",
              "2019-12-24   9.971957        NaN  10.45  ...   32400.0        NaN  2019-12-24\n",
              "2019-12-26  10.067384        NaN  10.55  ...  116600.0        NaN  2019-12-26\n",
              "2019-12-27  10.162808  24.912785  10.65  ...  146500.0  1368804.0  2019-12-27\n",
              "2019-12-30  10.134181  25.179773  10.62  ...   53000.0  1721932.0  2019-12-30\n",
              "2019-12-31  10.181893        NaN  10.67  ...   58100.0        NaN  2019-12-31\n",
              "\n",
              "[5 rows x 13 columns]"
            ]
          },
          "metadata": {
            "tags": []
          },
          "execution_count": 6
        }
      ]
    },
    {
      "cell_type": "code",
      "metadata": {
        "id": "c-raUUZP4N9c"
      },
      "source": [
        "actual_df = df['Close']"
      ],
      "execution_count": 7,
      "outputs": []
    },
    {
      "cell_type": "code",
      "metadata": {
        "id": "v7eM0yUc4OAe",
        "outputId": "bddd1cd2-eac6-41d7-9a5a-27dbb9fd02bd",
        "colab": {
          "base_uri": "https://localhost:8080/",
          "height": 450
        }
      },
      "source": [
        "actual_df"
      ],
      "execution_count": 8,
      "outputs": [
        {
          "output_type": "execute_result",
          "data": {
            "text/html": [
              "<div>\n",
              "<style scoped>\n",
              "    .dataframe tbody tr th:only-of-type {\n",
              "        vertical-align: middle;\n",
              "    }\n",
              "\n",
              "    .dataframe tbody tr th {\n",
              "        vertical-align: top;\n",
              "    }\n",
              "\n",
              "    .dataframe thead th {\n",
              "        text-align: right;\n",
              "    }\n",
              "</style>\n",
              "<table border=\"1\" class=\"dataframe\">\n",
              "  <thead>\n",
              "    <tr style=\"text-align: right;\">\n",
              "      <th></th>\n",
              "      <th>EONGY</th>\n",
              "      <th>RWE.DE</th>\n",
              "    </tr>\n",
              "    <tr>\n",
              "      <th>Date</th>\n",
              "      <th></th>\n",
              "      <th></th>\n",
              "    </tr>\n",
              "  </thead>\n",
              "  <tbody>\n",
              "    <tr>\n",
              "      <th>2018-12-31</th>\n",
              "      <td>9.87</td>\n",
              "      <td>NaN</td>\n",
              "    </tr>\n",
              "    <tr>\n",
              "      <th>2019-01-02</th>\n",
              "      <td>10.07</td>\n",
              "      <td>19.299999</td>\n",
              "    </tr>\n",
              "    <tr>\n",
              "      <th>2019-01-03</th>\n",
              "      <td>10.23</td>\n",
              "      <td>19.525000</td>\n",
              "    </tr>\n",
              "    <tr>\n",
              "      <th>2019-01-04</th>\n",
              "      <td>10.36</td>\n",
              "      <td>19.924999</td>\n",
              "    </tr>\n",
              "    <tr>\n",
              "      <th>2019-01-07</th>\n",
              "      <td>10.27</td>\n",
              "      <td>19.900000</td>\n",
              "    </tr>\n",
              "    <tr>\n",
              "      <th>...</th>\n",
              "      <td>...</td>\n",
              "      <td>...</td>\n",
              "    </tr>\n",
              "    <tr>\n",
              "      <th>2019-12-24</th>\n",
              "      <td>10.45</td>\n",
              "      <td>NaN</td>\n",
              "    </tr>\n",
              "    <tr>\n",
              "      <th>2019-12-26</th>\n",
              "      <td>10.55</td>\n",
              "      <td>NaN</td>\n",
              "    </tr>\n",
              "    <tr>\n",
              "      <th>2019-12-27</th>\n",
              "      <td>10.65</td>\n",
              "      <td>27.059999</td>\n",
              "    </tr>\n",
              "    <tr>\n",
              "      <th>2019-12-30</th>\n",
              "      <td>10.62</td>\n",
              "      <td>27.350000</td>\n",
              "    </tr>\n",
              "    <tr>\n",
              "      <th>2019-12-31</th>\n",
              "      <td>10.67</td>\n",
              "      <td>NaN</td>\n",
              "    </tr>\n",
              "  </tbody>\n",
              "</table>\n",
              "<p>259 rows × 2 columns</p>\n",
              "</div>"
            ],
            "text/plain": [
              "            EONGY     RWE.DE\n",
              "Date                        \n",
              "2018-12-31   9.87        NaN\n",
              "2019-01-02  10.07  19.299999\n",
              "2019-01-03  10.23  19.525000\n",
              "2019-01-04  10.36  19.924999\n",
              "2019-01-07  10.27  19.900000\n",
              "...           ...        ...\n",
              "2019-12-24  10.45        NaN\n",
              "2019-12-26  10.55        NaN\n",
              "2019-12-27  10.65  27.059999\n",
              "2019-12-30  10.62  27.350000\n",
              "2019-12-31  10.67        NaN\n",
              "\n",
              "[259 rows x 2 columns]"
            ]
          },
          "metadata": {
            "tags": []
          },
          "execution_count": 8
        }
      ]
    },
    {
      "cell_type": "code",
      "metadata": {
        "id": "xTfWdoJs-VgS"
      },
      "source": [
        "actual_df.reset_index(inplace=True,drop=False)\n"
      ],
      "execution_count": 9,
      "outputs": []
    },
    {
      "cell_type": "code",
      "metadata": {
        "id": "5NcXttRG-z0_",
        "outputId": "53f735bb-6328-45fe-86a7-18c2450e2587",
        "colab": {
          "base_uri": "https://localhost:8080/",
          "height": 419
        }
      },
      "source": [
        "actual_df\n"
      ],
      "execution_count": 10,
      "outputs": [
        {
          "output_type": "execute_result",
          "data": {
            "text/html": [
              "<div>\n",
              "<style scoped>\n",
              "    .dataframe tbody tr th:only-of-type {\n",
              "        vertical-align: middle;\n",
              "    }\n",
              "\n",
              "    .dataframe tbody tr th {\n",
              "        vertical-align: top;\n",
              "    }\n",
              "\n",
              "    .dataframe thead th {\n",
              "        text-align: right;\n",
              "    }\n",
              "</style>\n",
              "<table border=\"1\" class=\"dataframe\">\n",
              "  <thead>\n",
              "    <tr style=\"text-align: right;\">\n",
              "      <th></th>\n",
              "      <th>Date</th>\n",
              "      <th>EONGY</th>\n",
              "      <th>RWE.DE</th>\n",
              "    </tr>\n",
              "  </thead>\n",
              "  <tbody>\n",
              "    <tr>\n",
              "      <th>0</th>\n",
              "      <td>2018-12-31</td>\n",
              "      <td>9.87</td>\n",
              "      <td>NaN</td>\n",
              "    </tr>\n",
              "    <tr>\n",
              "      <th>1</th>\n",
              "      <td>2019-01-02</td>\n",
              "      <td>10.07</td>\n",
              "      <td>19.299999</td>\n",
              "    </tr>\n",
              "    <tr>\n",
              "      <th>2</th>\n",
              "      <td>2019-01-03</td>\n",
              "      <td>10.23</td>\n",
              "      <td>19.525000</td>\n",
              "    </tr>\n",
              "    <tr>\n",
              "      <th>3</th>\n",
              "      <td>2019-01-04</td>\n",
              "      <td>10.36</td>\n",
              "      <td>19.924999</td>\n",
              "    </tr>\n",
              "    <tr>\n",
              "      <th>4</th>\n",
              "      <td>2019-01-07</td>\n",
              "      <td>10.27</td>\n",
              "      <td>19.900000</td>\n",
              "    </tr>\n",
              "    <tr>\n",
              "      <th>...</th>\n",
              "      <td>...</td>\n",
              "      <td>...</td>\n",
              "      <td>...</td>\n",
              "    </tr>\n",
              "    <tr>\n",
              "      <th>254</th>\n",
              "      <td>2019-12-24</td>\n",
              "      <td>10.45</td>\n",
              "      <td>NaN</td>\n",
              "    </tr>\n",
              "    <tr>\n",
              "      <th>255</th>\n",
              "      <td>2019-12-26</td>\n",
              "      <td>10.55</td>\n",
              "      <td>NaN</td>\n",
              "    </tr>\n",
              "    <tr>\n",
              "      <th>256</th>\n",
              "      <td>2019-12-27</td>\n",
              "      <td>10.65</td>\n",
              "      <td>27.059999</td>\n",
              "    </tr>\n",
              "    <tr>\n",
              "      <th>257</th>\n",
              "      <td>2019-12-30</td>\n",
              "      <td>10.62</td>\n",
              "      <td>27.350000</td>\n",
              "    </tr>\n",
              "    <tr>\n",
              "      <th>258</th>\n",
              "      <td>2019-12-31</td>\n",
              "      <td>10.67</td>\n",
              "      <td>NaN</td>\n",
              "    </tr>\n",
              "  </tbody>\n",
              "</table>\n",
              "<p>259 rows × 3 columns</p>\n",
              "</div>"
            ],
            "text/plain": [
              "          Date  EONGY     RWE.DE\n",
              "0   2018-12-31   9.87        NaN\n",
              "1   2019-01-02  10.07  19.299999\n",
              "2   2019-01-03  10.23  19.525000\n",
              "3   2019-01-04  10.36  19.924999\n",
              "4   2019-01-07  10.27  19.900000\n",
              "..         ...    ...        ...\n",
              "254 2019-12-24  10.45        NaN\n",
              "255 2019-12-26  10.55        NaN\n",
              "256 2019-12-27  10.65  27.059999\n",
              "257 2019-12-30  10.62  27.350000\n",
              "258 2019-12-31  10.67        NaN\n",
              "\n",
              "[259 rows x 3 columns]"
            ]
          },
          "metadata": {
            "tags": []
          },
          "execution_count": 10
        }
      ]
    },
    {
      "cell_type": "code",
      "metadata": {
        "id": "I5dscq3uBW6S"
      },
      "source": [
        "actual_df = actual_df.rename(columns={\"EONGY\": \"actual_EON\", \"RWE.DE\": \"actual_RWE\"})"
      ],
      "execution_count": 11,
      "outputs": []
    },
    {
      "cell_type": "code",
      "metadata": {
        "id": "rN_goQlI4ODT"
      },
      "source": [
        "url = 'https://raw.githubusercontent.com/kaushal3312/TimeSeriesData/main/model_results.csv'\n",
        "pred_df = pd.read_csv(url)"
      ],
      "execution_count": 12,
      "outputs": []
    },
    {
      "cell_type": "code",
      "metadata": {
        "id": "jxwhZBL94OGU"
      },
      "source": [
        "pred_df = pred_df.drop(columns='Date')"
      ],
      "execution_count": 13,
      "outputs": []
    },
    {
      "cell_type": "code",
      "metadata": {
        "id": "fwLWKiDN8kLo",
        "outputId": "2e509193-f7a2-4718-f545-3985ad23b745",
        "colab": {
          "base_uri": "https://localhost:8080/",
          "height": 419
        }
      },
      "source": [
        "pred_df"
      ],
      "execution_count": 14,
      "outputs": [
        {
          "output_type": "execute_result",
          "data": {
            "text/html": [
              "<div>\n",
              "<style scoped>\n",
              "    .dataframe tbody tr th:only-of-type {\n",
              "        vertical-align: middle;\n",
              "    }\n",
              "\n",
              "    .dataframe tbody tr th {\n",
              "        vertical-align: top;\n",
              "    }\n",
              "\n",
              "    .dataframe thead th {\n",
              "        text-align: right;\n",
              "    }\n",
              "</style>\n",
              "<table border=\"1\" class=\"dataframe\">\n",
              "  <thead>\n",
              "    <tr style=\"text-align: right;\">\n",
              "      <th></th>\n",
              "      <th>model_eon</th>\n",
              "      <th>model_rwe</th>\n",
              "    </tr>\n",
              "  </thead>\n",
              "  <tbody>\n",
              "    <tr>\n",
              "      <th>0</th>\n",
              "      <td>10.000116</td>\n",
              "      <td>NaN</td>\n",
              "    </tr>\n",
              "    <tr>\n",
              "      <th>1</th>\n",
              "      <td>10.055719</td>\n",
              "      <td>18.128063</td>\n",
              "    </tr>\n",
              "    <tr>\n",
              "      <th>2</th>\n",
              "      <td>9.990220</td>\n",
              "      <td>18.354213</td>\n",
              "    </tr>\n",
              "    <tr>\n",
              "      <th>3</th>\n",
              "      <td>9.994109</td>\n",
              "      <td>18.341403</td>\n",
              "    </tr>\n",
              "    <tr>\n",
              "      <th>4</th>\n",
              "      <td>9.950292</td>\n",
              "      <td>18.117569</td>\n",
              "    </tr>\n",
              "    <tr>\n",
              "      <th>...</th>\n",
              "      <td>...</td>\n",
              "      <td>...</td>\n",
              "    </tr>\n",
              "    <tr>\n",
              "      <th>254</th>\n",
              "      <td>11.940119</td>\n",
              "      <td>NaN</td>\n",
              "    </tr>\n",
              "    <tr>\n",
              "      <th>255</th>\n",
              "      <td>12.004202</td>\n",
              "      <td>NaN</td>\n",
              "    </tr>\n",
              "    <tr>\n",
              "      <th>256</th>\n",
              "      <td>12.090594</td>\n",
              "      <td>21.909176</td>\n",
              "    </tr>\n",
              "    <tr>\n",
              "      <th>257</th>\n",
              "      <td>11.871587</td>\n",
              "      <td>21.943049</td>\n",
              "    </tr>\n",
              "    <tr>\n",
              "      <th>258</th>\n",
              "      <td>12.169036</td>\n",
              "      <td>NaN</td>\n",
              "    </tr>\n",
              "  </tbody>\n",
              "</table>\n",
              "<p>259 rows × 2 columns</p>\n",
              "</div>"
            ],
            "text/plain": [
              "     model_eon  model_rwe\n",
              "0    10.000116        NaN\n",
              "1    10.055719  18.128063\n",
              "2     9.990220  18.354213\n",
              "3     9.994109  18.341403\n",
              "4     9.950292  18.117569\n",
              "..         ...        ...\n",
              "254  11.940119        NaN\n",
              "255  12.004202        NaN\n",
              "256  12.090594  21.909176\n",
              "257  11.871587  21.943049\n",
              "258  12.169036        NaN\n",
              "\n",
              "[259 rows x 2 columns]"
            ]
          },
          "metadata": {
            "tags": []
          },
          "execution_count": 14
        }
      ]
    },
    {
      "cell_type": "code",
      "metadata": {
        "id": "oKQNFHPKAQFZ"
      },
      "source": [
        "pred_df = pred_df.rename(columns={\"model_eon\": \"pred_EON\", \"model_rwe\": \"pred_RWE\"})"
      ],
      "execution_count": 15,
      "outputs": []
    },
    {
      "cell_type": "code",
      "metadata": {
        "id": "bAXrciBjAQpN",
        "outputId": "2d5bbf0f-d01b-4589-9272-866b4eb0eaf9",
        "colab": {
          "base_uri": "https://localhost:8080/",
          "height": 419
        }
      },
      "source": [
        "actual_df"
      ],
      "execution_count": 16,
      "outputs": [
        {
          "output_type": "execute_result",
          "data": {
            "text/html": [
              "<div>\n",
              "<style scoped>\n",
              "    .dataframe tbody tr th:only-of-type {\n",
              "        vertical-align: middle;\n",
              "    }\n",
              "\n",
              "    .dataframe tbody tr th {\n",
              "        vertical-align: top;\n",
              "    }\n",
              "\n",
              "    .dataframe thead th {\n",
              "        text-align: right;\n",
              "    }\n",
              "</style>\n",
              "<table border=\"1\" class=\"dataframe\">\n",
              "  <thead>\n",
              "    <tr style=\"text-align: right;\">\n",
              "      <th></th>\n",
              "      <th>Date</th>\n",
              "      <th>actual_EON</th>\n",
              "      <th>actual_RWE</th>\n",
              "    </tr>\n",
              "  </thead>\n",
              "  <tbody>\n",
              "    <tr>\n",
              "      <th>0</th>\n",
              "      <td>2018-12-31</td>\n",
              "      <td>9.87</td>\n",
              "      <td>NaN</td>\n",
              "    </tr>\n",
              "    <tr>\n",
              "      <th>1</th>\n",
              "      <td>2019-01-02</td>\n",
              "      <td>10.07</td>\n",
              "      <td>19.299999</td>\n",
              "    </tr>\n",
              "    <tr>\n",
              "      <th>2</th>\n",
              "      <td>2019-01-03</td>\n",
              "      <td>10.23</td>\n",
              "      <td>19.525000</td>\n",
              "    </tr>\n",
              "    <tr>\n",
              "      <th>3</th>\n",
              "      <td>2019-01-04</td>\n",
              "      <td>10.36</td>\n",
              "      <td>19.924999</td>\n",
              "    </tr>\n",
              "    <tr>\n",
              "      <th>4</th>\n",
              "      <td>2019-01-07</td>\n",
              "      <td>10.27</td>\n",
              "      <td>19.900000</td>\n",
              "    </tr>\n",
              "    <tr>\n",
              "      <th>...</th>\n",
              "      <td>...</td>\n",
              "      <td>...</td>\n",
              "      <td>...</td>\n",
              "    </tr>\n",
              "    <tr>\n",
              "      <th>254</th>\n",
              "      <td>2019-12-24</td>\n",
              "      <td>10.45</td>\n",
              "      <td>NaN</td>\n",
              "    </tr>\n",
              "    <tr>\n",
              "      <th>255</th>\n",
              "      <td>2019-12-26</td>\n",
              "      <td>10.55</td>\n",
              "      <td>NaN</td>\n",
              "    </tr>\n",
              "    <tr>\n",
              "      <th>256</th>\n",
              "      <td>2019-12-27</td>\n",
              "      <td>10.65</td>\n",
              "      <td>27.059999</td>\n",
              "    </tr>\n",
              "    <tr>\n",
              "      <th>257</th>\n",
              "      <td>2019-12-30</td>\n",
              "      <td>10.62</td>\n",
              "      <td>27.350000</td>\n",
              "    </tr>\n",
              "    <tr>\n",
              "      <th>258</th>\n",
              "      <td>2019-12-31</td>\n",
              "      <td>10.67</td>\n",
              "      <td>NaN</td>\n",
              "    </tr>\n",
              "  </tbody>\n",
              "</table>\n",
              "<p>259 rows × 3 columns</p>\n",
              "</div>"
            ],
            "text/plain": [
              "          Date  actual_EON  actual_RWE\n",
              "0   2018-12-31        9.87         NaN\n",
              "1   2019-01-02       10.07   19.299999\n",
              "2   2019-01-03       10.23   19.525000\n",
              "3   2019-01-04       10.36   19.924999\n",
              "4   2019-01-07       10.27   19.900000\n",
              "..         ...         ...         ...\n",
              "254 2019-12-24       10.45         NaN\n",
              "255 2019-12-26       10.55         NaN\n",
              "256 2019-12-27       10.65   27.059999\n",
              "257 2019-12-30       10.62   27.350000\n",
              "258 2019-12-31       10.67         NaN\n",
              "\n",
              "[259 rows x 3 columns]"
            ]
          },
          "metadata": {
            "tags": []
          },
          "execution_count": 16
        }
      ]
    },
    {
      "cell_type": "code",
      "metadata": {
        "id": "WDMW6-3oAQtb",
        "outputId": "ee7026fd-3435-4c5e-ef9e-8caaad005b98",
        "colab": {
          "base_uri": "https://localhost:8080/",
          "height": 419
        }
      },
      "source": [
        "pred_df"
      ],
      "execution_count": 17,
      "outputs": [
        {
          "output_type": "execute_result",
          "data": {
            "text/html": [
              "<div>\n",
              "<style scoped>\n",
              "    .dataframe tbody tr th:only-of-type {\n",
              "        vertical-align: middle;\n",
              "    }\n",
              "\n",
              "    .dataframe tbody tr th {\n",
              "        vertical-align: top;\n",
              "    }\n",
              "\n",
              "    .dataframe thead th {\n",
              "        text-align: right;\n",
              "    }\n",
              "</style>\n",
              "<table border=\"1\" class=\"dataframe\">\n",
              "  <thead>\n",
              "    <tr style=\"text-align: right;\">\n",
              "      <th></th>\n",
              "      <th>pred_EON</th>\n",
              "      <th>pred_RWE</th>\n",
              "    </tr>\n",
              "  </thead>\n",
              "  <tbody>\n",
              "    <tr>\n",
              "      <th>0</th>\n",
              "      <td>10.000116</td>\n",
              "      <td>NaN</td>\n",
              "    </tr>\n",
              "    <tr>\n",
              "      <th>1</th>\n",
              "      <td>10.055719</td>\n",
              "      <td>18.128063</td>\n",
              "    </tr>\n",
              "    <tr>\n",
              "      <th>2</th>\n",
              "      <td>9.990220</td>\n",
              "      <td>18.354213</td>\n",
              "    </tr>\n",
              "    <tr>\n",
              "      <th>3</th>\n",
              "      <td>9.994109</td>\n",
              "      <td>18.341403</td>\n",
              "    </tr>\n",
              "    <tr>\n",
              "      <th>4</th>\n",
              "      <td>9.950292</td>\n",
              "      <td>18.117569</td>\n",
              "    </tr>\n",
              "    <tr>\n",
              "      <th>...</th>\n",
              "      <td>...</td>\n",
              "      <td>...</td>\n",
              "    </tr>\n",
              "    <tr>\n",
              "      <th>254</th>\n",
              "      <td>11.940119</td>\n",
              "      <td>NaN</td>\n",
              "    </tr>\n",
              "    <tr>\n",
              "      <th>255</th>\n",
              "      <td>12.004202</td>\n",
              "      <td>NaN</td>\n",
              "    </tr>\n",
              "    <tr>\n",
              "      <th>256</th>\n",
              "      <td>12.090594</td>\n",
              "      <td>21.909176</td>\n",
              "    </tr>\n",
              "    <tr>\n",
              "      <th>257</th>\n",
              "      <td>11.871587</td>\n",
              "      <td>21.943049</td>\n",
              "    </tr>\n",
              "    <tr>\n",
              "      <th>258</th>\n",
              "      <td>12.169036</td>\n",
              "      <td>NaN</td>\n",
              "    </tr>\n",
              "  </tbody>\n",
              "</table>\n",
              "<p>259 rows × 2 columns</p>\n",
              "</div>"
            ],
            "text/plain": [
              "      pred_EON   pred_RWE\n",
              "0    10.000116        NaN\n",
              "1    10.055719  18.128063\n",
              "2     9.990220  18.354213\n",
              "3     9.994109  18.341403\n",
              "4     9.950292  18.117569\n",
              "..         ...        ...\n",
              "254  11.940119        NaN\n",
              "255  12.004202        NaN\n",
              "256  12.090594  21.909176\n",
              "257  11.871587  21.943049\n",
              "258  12.169036        NaN\n",
              "\n",
              "[259 rows x 2 columns]"
            ]
          },
          "metadata": {
            "tags": []
          },
          "execution_count": 17
        }
      ]
    },
    {
      "cell_type": "code",
      "metadata": {
        "id": "C5YyVs_A8luq"
      },
      "source": [
        "frames = [actual_df,pred_df]\n"
      ],
      "execution_count": 18,
      "outputs": []
    },
    {
      "cell_type": "code",
      "metadata": {
        "id": "e-wba6gP8l5i"
      },
      "source": [
        "combined_df = pd.concat(frames,axis=1)\n"
      ],
      "execution_count": 19,
      "outputs": []
    },
    {
      "cell_type": "code",
      "metadata": {
        "id": "oazHZz068l8T",
        "outputId": "89d99308-1366-468e-dbf4-777054de4018",
        "colab": {
          "base_uri": "https://localhost:8080/",
          "height": 419
        }
      },
      "source": [
        "combined_df"
      ],
      "execution_count": 20,
      "outputs": [
        {
          "output_type": "execute_result",
          "data": {
            "text/html": [
              "<div>\n",
              "<style scoped>\n",
              "    .dataframe tbody tr th:only-of-type {\n",
              "        vertical-align: middle;\n",
              "    }\n",
              "\n",
              "    .dataframe tbody tr th {\n",
              "        vertical-align: top;\n",
              "    }\n",
              "\n",
              "    .dataframe thead th {\n",
              "        text-align: right;\n",
              "    }\n",
              "</style>\n",
              "<table border=\"1\" class=\"dataframe\">\n",
              "  <thead>\n",
              "    <tr style=\"text-align: right;\">\n",
              "      <th></th>\n",
              "      <th>Date</th>\n",
              "      <th>actual_EON</th>\n",
              "      <th>actual_RWE</th>\n",
              "      <th>pred_EON</th>\n",
              "      <th>pred_RWE</th>\n",
              "    </tr>\n",
              "  </thead>\n",
              "  <tbody>\n",
              "    <tr>\n",
              "      <th>0</th>\n",
              "      <td>2018-12-31</td>\n",
              "      <td>9.87</td>\n",
              "      <td>NaN</td>\n",
              "      <td>10.000116</td>\n",
              "      <td>NaN</td>\n",
              "    </tr>\n",
              "    <tr>\n",
              "      <th>1</th>\n",
              "      <td>2019-01-02</td>\n",
              "      <td>10.07</td>\n",
              "      <td>19.299999</td>\n",
              "      <td>10.055719</td>\n",
              "      <td>18.128063</td>\n",
              "    </tr>\n",
              "    <tr>\n",
              "      <th>2</th>\n",
              "      <td>2019-01-03</td>\n",
              "      <td>10.23</td>\n",
              "      <td>19.525000</td>\n",
              "      <td>9.990220</td>\n",
              "      <td>18.354213</td>\n",
              "    </tr>\n",
              "    <tr>\n",
              "      <th>3</th>\n",
              "      <td>2019-01-04</td>\n",
              "      <td>10.36</td>\n",
              "      <td>19.924999</td>\n",
              "      <td>9.994109</td>\n",
              "      <td>18.341403</td>\n",
              "    </tr>\n",
              "    <tr>\n",
              "      <th>4</th>\n",
              "      <td>2019-01-07</td>\n",
              "      <td>10.27</td>\n",
              "      <td>19.900000</td>\n",
              "      <td>9.950292</td>\n",
              "      <td>18.117569</td>\n",
              "    </tr>\n",
              "    <tr>\n",
              "      <th>...</th>\n",
              "      <td>...</td>\n",
              "      <td>...</td>\n",
              "      <td>...</td>\n",
              "      <td>...</td>\n",
              "      <td>...</td>\n",
              "    </tr>\n",
              "    <tr>\n",
              "      <th>254</th>\n",
              "      <td>2019-12-24</td>\n",
              "      <td>10.45</td>\n",
              "      <td>NaN</td>\n",
              "      <td>11.940119</td>\n",
              "      <td>NaN</td>\n",
              "    </tr>\n",
              "    <tr>\n",
              "      <th>255</th>\n",
              "      <td>2019-12-26</td>\n",
              "      <td>10.55</td>\n",
              "      <td>NaN</td>\n",
              "      <td>12.004202</td>\n",
              "      <td>NaN</td>\n",
              "    </tr>\n",
              "    <tr>\n",
              "      <th>256</th>\n",
              "      <td>2019-12-27</td>\n",
              "      <td>10.65</td>\n",
              "      <td>27.059999</td>\n",
              "      <td>12.090594</td>\n",
              "      <td>21.909176</td>\n",
              "    </tr>\n",
              "    <tr>\n",
              "      <th>257</th>\n",
              "      <td>2019-12-30</td>\n",
              "      <td>10.62</td>\n",
              "      <td>27.350000</td>\n",
              "      <td>11.871587</td>\n",
              "      <td>21.943049</td>\n",
              "    </tr>\n",
              "    <tr>\n",
              "      <th>258</th>\n",
              "      <td>2019-12-31</td>\n",
              "      <td>10.67</td>\n",
              "      <td>NaN</td>\n",
              "      <td>12.169036</td>\n",
              "      <td>NaN</td>\n",
              "    </tr>\n",
              "  </tbody>\n",
              "</table>\n",
              "<p>259 rows × 5 columns</p>\n",
              "</div>"
            ],
            "text/plain": [
              "          Date  actual_EON  actual_RWE   pred_EON   pred_RWE\n",
              "0   2018-12-31        9.87         NaN  10.000116        NaN\n",
              "1   2019-01-02       10.07   19.299999  10.055719  18.128063\n",
              "2   2019-01-03       10.23   19.525000   9.990220  18.354213\n",
              "3   2019-01-04       10.36   19.924999   9.994109  18.341403\n",
              "4   2019-01-07       10.27   19.900000   9.950292  18.117569\n",
              "..         ...         ...         ...        ...        ...\n",
              "254 2019-12-24       10.45         NaN  11.940119        NaN\n",
              "255 2019-12-26       10.55         NaN  12.004202        NaN\n",
              "256 2019-12-27       10.65   27.059999  12.090594  21.909176\n",
              "257 2019-12-30       10.62   27.350000  11.871587  21.943049\n",
              "258 2019-12-31       10.67         NaN  12.169036        NaN\n",
              "\n",
              "[259 rows x 5 columns]"
            ]
          },
          "metadata": {
            "tags": []
          },
          "execution_count": 20
        }
      ]
    },
    {
      "cell_type": "code",
      "metadata": {
        "id": "FKQgAxuT8mCC",
        "outputId": "e57871c7-77c6-4ae4-b4ee-558eca099eee",
        "colab": {
          "base_uri": "https://localhost:8080/",
          "height": 458
        }
      },
      "source": [
        "plt.figure(figsize=(10, 7))\n",
        "plt.plot(combined_df['Date'], combined_df['actual_EON'], 'b-')\n",
        "plt.plot(combined_df['Date'], combined_df['pred_EON'], 'r-')\n",
        "plt.legend(['actual_EON', 'pred_EON'])\n",
        "plt.xlabel('Date')\n",
        "plt.ylabel('Price')\n",
        "plt.title('Actual_EON vs Pred_EON');\n",
        "plt.show()"
      ],
      "execution_count": 21,
      "outputs": [
        {
          "output_type": "display_data",
          "data": {
            "image/png": "[encoded data removed]",
            "text/plain": [
              "<Figure size 720x504 with 1 Axes>"
            ]
          },
          "metadata": {
            "tags": [],
            "needs_background": "light"
          }
        }
      ]
    },
    {
      "cell_type": "code",
      "metadata": {
        "id": "f0Kv1EhRO1Ck",
        "outputId": "5ce8ef7c-e75d-4010-93d8-96ff119fee06",
        "colab": {
          "base_uri": "https://localhost:8080/",
          "height": 458
        }
      },
      "source": [
        "plt.figure(figsize=(10, 7))\n",
        "plt.plot(combined_df['Date'], combined_df['actual_RWE'], 'b-')\n",
        "plt.plot(combined_df['Date'], combined_df['pred_RWE'], 'r-')\n",
        "plt.legend(['actual_RWE', 'pred_RWE'])\n",
        "plt.xlabel('Date')\n",
        "plt.ylabel('Price')\n",
        "plt.title('Actual_RWE vs Pred_RWE');\n",
        "plt.show()"
      ],
      "execution_count": 22,
      "outputs": [
        {
          "output_type": "display_data",
          "data": {
            "image/png": "[encoded data removed]",
            "text/plain": [
              "<Figure size 720x504 with 1 Axes>"
            ]
          },
          "metadata": {
            "tags": [],
            "needs_background": "light"
          }
        }
      ]
    },
    {
      "cell_type": "code",
      "metadata": {
        "id": "c5lu6lAKSiaR",
        "outputId": "83456672-bc78-4673-ff8b-2af0282dea63",
        "colab": {
          "base_uri": "https://localhost:8080/",
          "height": 458
        }
      },
      "source": [
        "#plot close price\n",
        "plt.figure(figsize=(10,7))\n",
        "plt.grid(True)\n",
        "plt.xlabel('Dates')\n",
        "plt.ylabel('Close Prices')\n",
        "plt.plot(combined_df['Date'], combined_df['actual_EON'], 'b-')\n",
        "plt.plot(combined_df['Date'], combined_df['actual_RWE'], 'r-')\n",
        "plt.legend(['actual_EON', 'actual_RWE'])\n",
        "plt.title('EONGY and RWE closing price')\n",
        "plt.show()"
      ],
      "execution_count": 64,
      "outputs": [
        {
          "output_type": "display_data",
          "data": {
            "image/png": "[encoded data removed]",
            "text/plain": [
              "<Figure size 720x504 with 1 Axes>"
            ]
          },
          "metadata": {
            "tags": [],
            "needs_background": "light"
          }
        }
      ]
    },
    {
      "cell_type": "code",
      "metadata": {
        "id": "uERUa_I8OCfh"
      },
      "source": [
        "rwe = ax.bar(index, combined_df[\"\"].value_counts(), bar_width,\n",
        "                label=\"Summer\")\n",
        "\n",
        "eongy = ax.bar(index+bar_width, df[\"Crime Type Winter\"].value_counts(),\n",
        "                 bar_width, label=\"Winter\")"
      ],
      "execution_count": 23,
      "outputs": []
    },
    {
      "cell_type": "code",
      "metadata": {
        "id": "nnbb38lSOCiT"
      },
      "source": [
        "combined_df = combined_df.dropna()"
      ],
      "execution_count": 33,
      "outputs": []
    },
    {
      "cell_type": "code",
      "metadata": {
        "id": "KagPqdx9OClA",
        "outputId": "f1d1b5f3-4df9-435e-ffff-563284ffd4f2",
        "colab": {
          "base_uri": "https://localhost:8080/",
          "height": 419
        }
      },
      "source": [
        "combined_df"
      ],
      "execution_count": 34,
      "outputs": [
        {
          "output_type": "execute_result",
          "data": {
            "text/html": [
              "<div>\n",
              "<style scoped>\n",
              "    .dataframe tbody tr th:only-of-type {\n",
              "        vertical-align: middle;\n",
              "    }\n",
              "\n",
              "    .dataframe tbody tr th {\n",
              "        vertical-align: top;\n",
              "    }\n",
              "\n",
              "    .dataframe thead th {\n",
              "        text-align: right;\n",
              "    }\n",
              "</style>\n",
              "<table border=\"1\" class=\"dataframe\">\n",
              "  <thead>\n",
              "    <tr style=\"text-align: right;\">\n",
              "      <th></th>\n",
              "      <th>Date</th>\n",
              "      <th>actual_EON</th>\n",
              "      <th>actual_RWE</th>\n",
              "      <th>pred_EON</th>\n",
              "      <th>pred_RWE</th>\n",
              "    </tr>\n",
              "  </thead>\n",
              "  <tbody>\n",
              "    <tr>\n",
              "      <th>1</th>\n",
              "      <td>2019-01-02</td>\n",
              "      <td>10.07</td>\n",
              "      <td>19.299999</td>\n",
              "      <td>10.055719</td>\n",
              "      <td>18.128063</td>\n",
              "    </tr>\n",
              "    <tr>\n",
              "      <th>2</th>\n",
              "      <td>2019-01-03</td>\n",
              "      <td>10.23</td>\n",
              "      <td>19.525000</td>\n",
              "      <td>9.990220</td>\n",
              "      <td>18.354213</td>\n",
              "    </tr>\n",
              "    <tr>\n",
              "      <th>3</th>\n",
              "      <td>2019-01-04</td>\n",
              "      <td>10.36</td>\n",
              "      <td>19.924999</td>\n",
              "      <td>9.994109</td>\n",
              "      <td>18.341403</td>\n",
              "    </tr>\n",
              "    <tr>\n",
              "      <th>4</th>\n",
              "      <td>2019-01-07</td>\n",
              "      <td>10.27</td>\n",
              "      <td>19.900000</td>\n",
              "      <td>9.950292</td>\n",
              "      <td>18.117569</td>\n",
              "    </tr>\n",
              "    <tr>\n",
              "      <th>5</th>\n",
              "      <td>2019-01-08</td>\n",
              "      <td>10.33</td>\n",
              "      <td>19.980000</td>\n",
              "      <td>9.898642</td>\n",
              "      <td>18.437733</td>\n",
              "    </tr>\n",
              "    <tr>\n",
              "      <th>...</th>\n",
              "      <td>...</td>\n",
              "      <td>...</td>\n",
              "      <td>...</td>\n",
              "      <td>...</td>\n",
              "      <td>...</td>\n",
              "    </tr>\n",
              "    <tr>\n",
              "      <th>251</th>\n",
              "      <td>2019-12-19</td>\n",
              "      <td>10.62</td>\n",
              "      <td>26.620001</td>\n",
              "      <td>11.914788</td>\n",
              "      <td>21.997452</td>\n",
              "    </tr>\n",
              "    <tr>\n",
              "      <th>252</th>\n",
              "      <td>2019-12-20</td>\n",
              "      <td>10.57</td>\n",
              "      <td>27.090000</td>\n",
              "      <td>12.014980</td>\n",
              "      <td>21.881554</td>\n",
              "    </tr>\n",
              "    <tr>\n",
              "      <th>253</th>\n",
              "      <td>2019-12-23</td>\n",
              "      <td>10.50</td>\n",
              "      <td>26.980000</td>\n",
              "      <td>12.203933</td>\n",
              "      <td>21.937456</td>\n",
              "    </tr>\n",
              "    <tr>\n",
              "      <th>256</th>\n",
              "      <td>2019-12-27</td>\n",
              "      <td>10.65</td>\n",
              "      <td>27.059999</td>\n",
              "      <td>12.090594</td>\n",
              "      <td>21.909176</td>\n",
              "    </tr>\n",
              "    <tr>\n",
              "      <th>257</th>\n",
              "      <td>2019-12-30</td>\n",
              "      <td>10.62</td>\n",
              "      <td>27.350000</td>\n",
              "      <td>11.871587</td>\n",
              "      <td>21.943049</td>\n",
              "    </tr>\n",
              "  </tbody>\n",
              "</table>\n",
              "<p>245 rows × 5 columns</p>\n",
              "</div>"
            ],
            "text/plain": [
              "          Date  actual_EON  actual_RWE   pred_EON   pred_RWE\n",
              "1   2019-01-02       10.07   19.299999  10.055719  18.128063\n",
              "2   2019-01-03       10.23   19.525000   9.990220  18.354213\n",
              "3   2019-01-04       10.36   19.924999   9.994109  18.341403\n",
              "4   2019-01-07       10.27   19.900000   9.950292  18.117569\n",
              "5   2019-01-08       10.33   19.980000   9.898642  18.437733\n",
              "..         ...         ...         ...        ...        ...\n",
              "251 2019-12-19       10.62   26.620001  11.914788  21.997452\n",
              "252 2019-12-20       10.57   27.090000  12.014980  21.881554\n",
              "253 2019-12-23       10.50   26.980000  12.203933  21.937456\n",
              "256 2019-12-27       10.65   27.059999  12.090594  21.909176\n",
              "257 2019-12-30       10.62   27.350000  11.871587  21.943049\n",
              "\n",
              "[245 rows x 5 columns]"
            ]
          },
          "metadata": {
            "tags": []
          },
          "execution_count": 34
        }
      ]
    },
    {
      "cell_type": "code",
      "metadata": {
        "id": "4ZwrNmQ9OCnm",
        "outputId": "003568a5-e743-4e6e-b39a-2a4093d53d19",
        "colab": {
          "base_uri": "https://localhost:8080/",
          "height": 458
        }
      },
      "source": [
        "plt.figure(figsize=(10, 7))\n",
        "plt.plot(combined_df['Date'], combined_df['actual_EON'], 'b-')\n",
        "plt.plot(combined_df['Date'], combined_df['pred_EON'], 'r-')\n",
        "plt.legend(['actual_EON', 'pred_EON'])\n",
        "plt.xlabel('Date')\n",
        "plt.ylabel('Price')\n",
        "plt.title('Actual_EON vs Pred_EON');\n",
        "plt.show()"
      ],
      "execution_count": 35,
      "outputs": [
        {
          "output_type": "display_data",
          "data": {
            "image/png": "[encoded data removed]",
            "text/plain": [
              "<Figure size 720x504 with 1 Axes>"
            ]
          },
          "metadata": {
            "tags": [],
            "needs_background": "light"
          }
        }
      ]
    },
    {
      "cell_type": "code",
      "metadata": {
        "id": "_xaYeHR9OCp2",
        "outputId": "7f7e6a56-b367-40fe-8260-369b75e4641c",
        "colab": {
          "base_uri": "https://localhost:8080/",
          "height": 458
        }
      },
      "source": [
        "plt.figure(figsize=(10, 7))\n",
        "plt.plot(combined_df['Date'], combined_df['actual_RWE'], 'b-')\n",
        "plt.plot(combined_df['Date'], combined_df['pred_RWE'], 'r-')\n",
        "plt.legend(['actual_RWE', 'pred_RWE'])\n",
        "plt.xlabel('Date')\n",
        "plt.ylabel('Price')\n",
        "plt.title('Actual_RWE vs Pred_RWE');\n",
        "plt.show()"
      ],
      "execution_count": 36,
      "outputs": [
        {
          "output_type": "display_data",
          "data": {
            "image/png": "[encoded data removed]",
            "text/plain": [
              "<Figure size 720x504 with 1 Axes>"
            ]
          },
          "metadata": {
            "tags": [],
            "needs_background": "light"
          }
        }
      ]
    },
    {
      "cell_type": "code",
      "metadata": {
        "id": "dMjN0qYYTfsw"
      },
      "source": [
        ""
      ],
      "execution_count": null,
      "outputs": []
    },
    {
      "cell_type": "code",
      "metadata": {
        "id": "k8AyGk7NTfvS"
      },
      "source": [
        ""
      ],
      "execution_count": null,
      "outputs": []
    },
    {
      "cell_type": "code",
      "metadata": {
        "id": "gmSRtZvUeQkh"
      },
      "source": [
        "from sklearn.metrics import r2_score\n",
        "from sklearn.metrics import mean_absolute_error\n",
        "from sklearn.metrics import median_absolute_error\n",
        "from sklearn.metrics import mean_squared_error\n",
        "\n"
      ],
      "execution_count": 59,
      "outputs": []
    },
    {
      "cell_type": "markdown",
      "metadata": {
        "id": "6XuB4JO2WjGU"
      },
      "source": [
        "**R2 Score**"
      ]
    },
    {
      "cell_type": "code",
      "metadata": {
        "id": "iE9HL2xbeQnN"
      },
      "source": [
        "r2_rwe = r2_score(combined_df['actual_RWE'], combined_df['pred_RWE'])"
      ],
      "execution_count": 46,
      "outputs": []
    },
    {
      "cell_type": "code",
      "metadata": {
        "id": "f6NEHvYNeQpo",
        "outputId": "3f16be8b-0d75-40c6-8d7c-0eadec55a152",
        "colab": {
          "base_uri": "https://localhost:8080/"
        }
      },
      "source": [
        "r2_rwe"
      ],
      "execution_count": 49,
      "outputs": [
        {
          "output_type": "execute_result",
          "data": {
            "text/plain": [
              "-2.3541673771655627"
            ]
          },
          "metadata": {
            "tags": []
          },
          "execution_count": 49
        }
      ]
    },
    {
      "cell_type": "code",
      "metadata": {
        "id": "eKXqa_SIeQsO"
      },
      "source": [
        "r2_eon = r2_score(combined_df['actual_EON'], combined_df['pred_EON'])"
      ],
      "execution_count": 47,
      "outputs": []
    },
    {
      "cell_type": "code",
      "metadata": {
        "id": "IvLYz51jUr9-",
        "outputId": "3105baaf-89e1-492a-a304-9fda466c0636",
        "colab": {
          "base_uri": "https://localhost:8080/"
        }
      },
      "source": [
        "r2_eon"
      ],
      "execution_count": 48,
      "outputs": [
        {
          "output_type": "execute_result",
          "data": {
            "text/plain": [
              "-3.117978989034719"
            ]
          },
          "metadata": {
            "tags": []
          },
          "execution_count": 48
        }
      ]
    },
    {
      "cell_type": "markdown",
      "metadata": {
        "id": "RGKu-xH4WowZ"
      },
      "source": [
        "**Mean absolute error**"
      ]
    },
    {
      "cell_type": "code",
      "metadata": {
        "id": "IWx9Bj3iVals",
        "outputId": "4f277b93-1249-4afc-a99d-84ec10b831c1",
        "colab": {
          "base_uri": "https://localhost:8080/"
        }
      },
      "source": [
        "print(mean_absolute_error(combined_df['actual_EON'], combined_df['pred_EON']))\n"
      ],
      "execution_count": 53,
      "outputs": [
        {
          "output_type": "stream",
          "text": [
            "0.9983502544379731\n"
          ],
          "name": "stdout"
        }
      ]
    },
    {
      "cell_type": "code",
      "metadata": {
        "id": "ieBqw-ehVaoh",
        "outputId": "9ba11f07-7f3e-4f0f-ba72-fd2e655a9ff9",
        "colab": {
          "base_uri": "https://localhost:8080/"
        }
      },
      "source": [
        "print(mean_absolute_error(combined_df['actual_RWE'], combined_df['pred_RWE']))\n"
      ],
      "execution_count": 55,
      "outputs": [
        {
          "output_type": "stream",
          "text": [
            "4.0116109613856805\n"
          ],
          "name": "stdout"
        }
      ]
    },
    {
      "cell_type": "markdown",
      "metadata": {
        "id": "HNt3f10QXEkl"
      },
      "source": [
        "***Median Absolute error ***"
      ]
    },
    {
      "cell_type": "code",
      "metadata": {
        "id": "t7CceCIKXIM1",
        "outputId": "999c554a-07a2-458a-9929-75193467a15f",
        "colab": {
          "base_uri": "https://localhost:8080/"
        }
      },
      "source": [
        "print(median_absolute_error(combined_df['actual_EON'], combined_df['pred_EON']))\n"
      ],
      "execution_count": 57,
      "outputs": [
        {
          "output_type": "stream",
          "text": [
            "0.7692007544504911\n"
          ],
          "name": "stdout"
        }
      ]
    },
    {
      "cell_type": "code",
      "metadata": {
        "id": "G2EMKyrEXIYN",
        "outputId": "a85b099d-ab51-47c6-d588-c80424ca1c43",
        "colab": {
          "base_uri": "https://localhost:8080/"
        }
      },
      "source": [
        "print(median_absolute_error(combined_df['actual_RWE'], combined_df['pred_RWE']))\n"
      ],
      "execution_count": 58,
      "outputs": [
        {
          "output_type": "stream",
          "text": [
            "3.8503507037238798\n"
          ],
          "name": "stdout"
        }
      ]
    },
    {
      "cell_type": "code",
      "metadata": {
        "id": "A2ZszxBwXzli"
      },
      "source": [
        ""
      ],
      "execution_count": null,
      "outputs": []
    },
    {
      "cell_type": "markdown",
      "metadata": {
        "id": "GDwNhqy6Xbnk"
      },
      "source": [
        "**Mean squared error**"
      ]
    },
    {
      "cell_type": "code",
      "metadata": {
        "id": "7rbmMeW2X4KP",
        "outputId": "41348413-567b-40e8-9ca3-9e5a6c4a4993",
        "colab": {
          "base_uri": "https://localhost:8080/"
        }
      },
      "source": [
        "print(mean_squared_error(combined_df['actual_EON'], combined_df['pred_EON']))\n"
      ],
      "execution_count": 60,
      "outputs": [
        {
          "output_type": "stream",
          "text": [
            "1.4858220794151042\n"
          ],
          "name": "stdout"
        }
      ]
    },
    {
      "cell_type": "code",
      "metadata": {
        "id": "lEooxqhwX4SC",
        "outputId": "f6a89764-f467-439b-bc6d-d2ccbe9b299a",
        "colab": {
          "base_uri": "https://localhost:8080/"
        }
      },
      "source": [
        "print(mean_squared_error(combined_df['actual_RWE'], combined_df['pred_RWE']))\n"
      ],
      "execution_count": 62,
      "outputs": [
        {
          "output_type": "stream",
          "text": [
            "18.29584749976748\n"
          ],
          "name": "stdout"
        }
      ]
    },
    {
      "cell_type": "code",
      "metadata": {
        "id": "e4JjvWgJX4Uv"
      },
      "source": [
        ""
      ],
      "execution_count": null,
      "outputs": []
    },
    {
      "cell_type": "code",
      "metadata": {
        "id": "w9uEAzqGX4Z1"
      },
      "source": [
        ""
      ],
      "execution_count": null,
      "outputs": []
    },
    {
      "cell_type": "markdown",
      "metadata": {
        "id": "8reb1dajg_5B"
      },
      "source": [
        "  ( 2 ) \n",
        "  \n",
        "  \n",
        "After we compare the actual and the predicted closing prices , plotting the graph and doing the metrics evaluation, we can say that EONGY model performed better compared to RWE.DE model. In RWE stock comparision graph of actual and predicted closing price for 2019 , the predictions did not matched with the actual closing prices. The model perofmed worst in this case. While in EON model , some of them were mathced and the model is not good but better than RWE.  "
      ]
    },
    {
      "cell_type": "markdown",
      "metadata": {
        "id": "wmKlF7pLh6EZ"
      },
      "source": [
        "(3) \n",
        "\n",
        "Looking back at both the stocks for 2019, the RWE stock peroformed better than EONGY in 2019 as we can see clearly from the graph that EONGY faced a majot downfall and then at the end of the year the closing prices are almost similar to beggining of the year while in RWE stock, the closing prices are increased compared to the beginning of the year. "
      ]
    },
    {
      "cell_type": "markdown",
      "metadata": {
        "id": "LlcKxpmVix8k"
      },
      "source": [
        "( 4) \n",
        "\n",
        "We aim to predict the daily closing price for a stock using data from previous N days. Eg- Lets say 3 years of historical prices.Then download the split the dataset into 60% train, 20% validation, 20% test. Model will be trained using the train set , model hyperparameters will be tuned using validation set , and finally the perofrmance of the model will be reported using the test set. \n",
        "\n",
        "To evaluate the effectiveness of our methods, we will use root mean square ( RMSE) and mean absolute percentage error  ( MAPE ) metrics . For both the metrics , lower the value, better the predictions are. \n",
        "\n",
        "There are various methods we can apply like Last Value, Moving Average, Linear Regression, Extreme Gradient Descent, Long Short Term Memory. \n",
        "\n",
        "In Last Value Method, we simply set the prediction as last observed value. In our project , this means we set the current closing price as the previous day's closing price. This is basically used as the benchmark model and can be used to compare other models. This benchmark will help establish then intuition about faetures that are important and help prioritize further development. "
      ]
    }
  ]
}